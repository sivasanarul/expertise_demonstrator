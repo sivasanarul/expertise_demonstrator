{
 "cells": [
  {
   "cell_type": "code",
   "execution_count": 203,
   "metadata": {},
   "outputs": [],
   "source": [
    "import numpy as np\n",
    "import matplotlib.pyplot as plt\n",
    "\n",
    "class jenkins():\n",
    "    \n",
    "    def __init__(self, X_target, X_contact, normal, k=2, mu=0.1):\n",
    "        \n",
    "        # contact properties\n",
    "        self.k = k\n",
    "        \n",
    "        self.mu = mu\n",
    "        \n",
    "        #contact parameters\n",
    "        self.X_target = X_target\n",
    "        self.X_contact = X_contact\n",
    "        self.normal = normal\n",
    "        \n",
    "        self.alpha = np.zeros(X_target.shape)\n",
    "        self.gap_n = np.zeros(X_target.shape)\n",
    "        \n",
    "    def compute_gap_and_tangent(self, u):\n",
    "        \n",
    "        dim = u.shape[0]\n",
    "        if dim%2:\n",
    "            raise ValueError('Displacement vector is not compatible')\n",
    "\n",
    "        u_target = u[:int(dim/2)]\n",
    "        u_contact = u[int(dim/2):]\n",
    "        \n",
    "        x_contact = self.X_contact + u_contact\n",
    "        x_target = self.X_target + u_target\n",
    "        \n",
    "        delta = x_contact - x_target\n",
    "        gap = self.normal.dot(delta)\n",
    "        u_tangent = gap*self.normal - delta\n",
    "        \n",
    "        if gap <=0.0:\n",
    "            return gap, u_tangent\n",
    "        else:\n",
    "            return gap*0.0, u_tangent\n",
    "    \n",
    "    def compute_tangent_force(self,tangent,N):\n",
    "        \n",
    "        delta_gap = tangent - self.gap_n\n",
    "        self.gap_n = tangent\n",
    "        Ft_trial = self.alpha - self.k*delta_gap \n",
    "        norm_Ft_trial = np.linalg.norm(Ft_trial)\n",
    "        if norm_Ft_trial>0:\n",
    "            d = Ft_trial/norm_Ft_trial\n",
    "        else:\n",
    "            d = 1.0\n",
    "\n",
    "        Phi = norm_Ft_trial - self.mu*N\n",
    "        if Phi<=0:\n",
    "            self.alpha = Ft_trial\n",
    "            return self.alpha\n",
    "        \n",
    "        else:\n",
    "            self.alpha = self.mu*N*d\n",
    "            return self.alpha\n",
    "        \n",
    "    def compute(self,u):\n",
    "        \n",
    "        gap, u_tangent = self.compute_gap_and_tangent(u)\n",
    "        N = -self.k*gap\n",
    "        normal_force = N*self.normal\n",
    "        tangent_force = self.compute_tangent_force(u_tangent,N)\n",
    "        force = normal_force + tangent_force\n",
    "        return np.concatenate([force,-force])"
   ]
  },
  {
   "cell_type": "code",
   "execution_count": 204,
   "metadata": {},
   "outputs": [
    {
     "data": {
      "image/png": "[encoded data removed]",
      "text/plain": [
       "<Figure size 432x288 with 1 Axes>"
      ]
     },
     "metadata": {
      "needs_background": "light"
     },
     "output_type": "display_data"
    }
   ],
   "source": [
    "X_target = np.array([0.,0.,0.])\n",
    "X_contact = np.array([0.5,0.,0.])\n",
    "normal = np.array([1.0,0.0,0.0])\n",
    "contact = jenkins(X_target, X_contact, normal,mu=0.15,k=20)\n",
    "\n",
    "\n",
    "\n",
    "base_u = np.array([1.,0.1,0.,0.,0.,0.])\n",
    "contact_force = lambda a : contact.compute(a*base_u)\n",
    "\n",
    "force_list = list(map(contact_force,np.linspace(0,1,100)))\n",
    "\n",
    "plt.plot(force_list,'o')\n",
    "plt.show()"
   ]
  },
  {
   "cell_type": "code",
   "execution_count": 23,
   "metadata": {},
   "outputs": [],
   "source": [
    "from pyfeti import utils\n",
    "\n",
    "import amfe"
   ]
  },
  {
   "cell_type": "code",
   "execution_count": 36,
   "metadata": {},
   "outputs": [],
   "source": [
    "d1 = utils.DomainCreator(width=1,heigh=1,x_divisions=3,y_divisions=3,start_x =0,start_y=0,domain_id=1)\n",
    "mesh_file_1 = 'domain_1.msh'\n",
    "d1.save_gmsh_file(mesh_file_1)\n",
    "m = amfe.Mesh()\n",
    "m.import_msh(mesh_file_1)"
   ]
  },
  {
   "cell_type": "code",
   "execution_count": 37,
   "metadata": {},
   "outputs": [],
   "source": [
    "m1 = m\n",
    "m2 = m.translation(np.array([1.2,0.,0.]))\n"
   ]
  },
  {
   "cell_type": "code",
   "execution_count": 40,
   "metadata": {},
   "outputs": [
    {
     "data": {
      "text/plain": [
       "(-0.5, 1.5)"
      ]
     },
     "execution_count": 40,
     "metadata": {},
     "output_type": "execute_result"
    },
    {
     "data": {
      "image/png": "[encoded data removed]",
      "text/plain": [
       "<Figure size 432x288 with 1 Axes>"
      ]
     },
     "metadata": {
      "needs_background": "light"
     },
     "output_type": "display_data"
    }
   ],
   "source": [
    "ax1 = amfe.plot2Dmesh(m1)\n",
    "amfe.plot2Dmesh(m2,ax=ax1)\n",
    "\n",
    "ax1.set_xlim([0,2])\n",
    "ax1.set_ylim([-0.5,1.5])"
   ]
  },
  {
   "cell_type": "code",
   "execution_count": 41,
   "metadata": {},
   "outputs": [
    {
     "data": {
      "text/plain": [
       "array([[0. , 0. ],\n",
       "       [0.5, 0. ],\n",
       "       [1. , 0. ],\n",
       "       [0. , 0.5],\n",
       "       [0.5, 0.5],\n",
       "       [1. , 0.5],\n",
       "       [0. , 1. ],\n",
       "       [0.5, 1. ],\n",
       "       [1. , 1. ]])"
      ]
     },
     "execution_count": 41,
     "metadata": {},
     "output_type": "execute_result"
    }
   ],
   "source": [
    "m1.nodes"
   ]
  },
  {
   "cell_type": "code",
   "execution_count": 42,
   "metadata": {},
   "outputs": [
    {
     "data": {
      "text/plain": [
       "array([[1.2, 0. ],\n",
       "       [1.7, 0. ],\n",
       "       [2.2, 0. ],\n",
       "       [1.2, 0.5],\n",
       "       [1.7, 0.5],\n",
       "       [2.2, 0.5],\n",
       "       [1.2, 1. ],\n",
       "       [1.7, 1. ],\n",
       "       [2.2, 1. ]])"
      ]
     },
     "execution_count": 42,
     "metadata": {},
     "output_type": "execute_result"
    }
   ],
   "source": [
    "m2.nodes"
   ]
  },
  {
   "cell_type": "code",
   "execution_count": 45,
   "metadata": {},
   "outputs": [],
   "source": [
    "m1.split_in_groups()\n",
    "m2.split_in_groups()\n",
    "\n",
    "d1 = m1.get_submesh('phys_group',3)\n",
    "d2 = m2.get_submesh('phys_group',3)"
   ]
  },
  {
   "cell_type": "code",
   "execution_count": 206,
   "metadata": {},
   "outputs": [
    {
     "name": "stdout",
     "output_type": "stream",
     "text": [
      "It was not possible to find a slave node for master node 0. Minimum distance is 1.200000e+00\n",
      "It was not possible to find a slave node for master node 1. Minimum distance is 7.000000e-01\n",
      "It was not possible to find a slave node for master node 3. Minimum distance is 1.200000e+00\n",
      "It was not possible to find a slave node for master node 4. Minimum distance is 7.000000e-01\n",
      "It was not possible to find a slave node for master node 6. Minimum distance is 1.200000e+00\n",
      "It was not possible to find a slave node for master node 7. Minimum distance is 7.000000e-01\n"
     ]
    }
   ],
   "source": [
    "contact = amfe.contact.Contact(d1,d2,tol_radius=0.5)\n",
    "\n",
    "master_nodes = contact.master_nodes\n",
    "slave_nodes = contact.slaves_nodes"
   ]
  },
  {
   "cell_type": "code",
   "execution_count": 207,
   "metadata": {},
   "outputs": [
    {
     "data": {
      "text/plain": [
       "[2, 5, 8]"
      ]
     },
     "execution_count": 207,
     "metadata": {},
     "output_type": "execute_result"
    }
   ],
   "source": [
    "master_nodes"
   ]
  },
  {
   "cell_type": "code",
   "execution_count": 208,
   "metadata": {},
   "outputs": [
    {
     "data": {
      "text/plain": [
       "[0, 3, 6]"
      ]
     },
     "execution_count": 208,
     "metadata": {},
     "output_type": "execute_result"
    }
   ],
   "source": [
    "slave_nodes"
   ]
  },
  {
   "cell_type": "code",
   "execution_count": 209,
   "metadata": {},
   "outputs": [
    {
     "data": {
      "text/plain": [
       "{2: 0, 5: 3, 8: 6}"
      ]
     },
     "execution_count": 209,
     "metadata": {},
     "output_type": "execute_result"
    }
   ],
   "source": [
    "contact.contact_elem_dict"
   ]
  },
  {
   "cell_type": "code",
   "execution_count": 210,
   "metadata": {},
   "outputs": [],
   "source": [
    "def map_local2global_dofs(global_vector, local_index, local_values):\n",
    "    global_vector[local_index] = local_values\n",
    "    \n",
    "dimension = 2\n",
    "shift = 8\n",
    "map_dict = {}\n",
    "contact_id = 0\n",
    "contact_list = []\n",
    "for key, value in contact.contact_elem_dict.items():\n",
    "    map_dict[contact_id] = [key*dimension,key*dimension+1,shift+value*dimension,shift+value*dimension+1] \n",
    "    X_target = m1.nodes[key]\n",
    "    X_contact =  m2.nodes[value]\n",
    "    normal = np.array([1.0,0.])\n",
    "    jenkins_obj = jenkins(X_target, X_contact, normal)\n",
    "    contact_list.append(jenkins_obj)\n",
    "    contact_id +=1"
   ]
  },
  {
   "cell_type": "code",
   "execution_count": 211,
   "metadata": {},
   "outputs": [
    {
     "name": "stdout",
     "output_type": "stream",
     "text": [
      "[1. 0.]\n",
      "[1.2 0. ]\n",
      "[1.  0.5]\n",
      "[1.2 0.5]\n",
      "[1. 1.]\n",
      "[1.2 1. ]\n"
     ]
    }
   ],
   "source": [
    "for contact_elem in  contact_list:\n",
    "    print(contact_elem.X_target)\n",
    "    print(contact_elem.X_contact)\n",
    "\n",
    "    "
   ]
  },
  {
   "cell_type": "code",
   "execution_count": 212,
   "metadata": {},
   "outputs": [],
   "source": [
    "class Nonlinear_force_assembler():\n",
    "    def __init__(self,map_dict,contact_list):\n",
    "        self.map_dict = map_dict\n",
    "        self.contact_list = contact_list\n",
    "        \n",
    "    def compute(self,u):\n",
    "        \n",
    "        global_force = np.zeros(u.shape)\n",
    "        for key,global_index in self.map_dict.items():\n",
    "            local_force = contact_list[key].compute(u[global_index])\n",
    "            global_force[global_index] = local_force\n",
    "            \n",
    "        return global_force\n",
    "    \n",
    "\n",
    "Fnl_obj = Nonlinear_force_assembler(map_dict,contact_list)\n",
    "Fnl = lambda u : Fnl_obj.compute(u)\n",
    "                "
   ]
  },
  {
   "cell_type": "code",
   "execution_count": 76,
   "metadata": {},
   "outputs": [
    {
     "name": "stdout",
     "output_type": "stream",
     "text": [
      "Preallocating the stiffness matrix\n",
      "Done preallocating stiffness matrix with 4 elements and 18 dofs.\n",
      "Time taken for preallocation: 0.00 seconds.\n",
      "Number of nodes is equal to 9\n"
     ]
    }
   ],
   "source": [
    "# creating a mechanical component\n",
    "my_comp = amfe.MechanicalSystem()\n",
    "my_comp.set_mesh_obj(m1)\n",
    "rho = 7.85E-9 # ton/mm3\n",
    "E = 2.10E5 # MPa = N/mm2\n",
    "my_material = amfe.KirchhoffMaterial(E=E, nu=0.3, rho=rho, plane_stress=False)\n",
    "my_comp.set_domain(3,my_material)\n",
    "print('Number of nodes is equal to %i' %my_comp.mesh_class.no_of_nodes)"
   ]
  },
  {
   "cell_type": "code",
   "execution_count": 77,
   "metadata": {},
   "outputs": [],
   "source": [
    "K, f_ = my_comp.assembly_class.assemble_k_and_f()"
   ]
  },
  {
   "cell_type": "code",
   "execution_count": 79,
   "metadata": {},
   "outputs": [],
   "source": [
    "from pyfeti.src.utils import DomainCreator, dict2dfmap, create_selection_operator, DofManager\n",
    "try:\n",
    "    connectivity = []\n",
    "    for _,item in m.el_df.iloc[:, m.node_idx:].iterrows():\n",
    "        connectivity.append(list(item.dropna().astype(dtype='int64')))\n",
    "    m.el_df['connectivity'] = connectivity\n",
    "except:\n",
    "    pass\n",
    "    \n",
    "id_matrix = my_comp.assembly_class.id_matrix\n",
    "id_map_df = dict2dfmap(id_matrix)\n",
    "s = create_selection_operator(id_map_df,m.el_df)"
   ]
  },
  {
   "cell_type": "code",
   "execution_count": 80,
   "metadata": {},
   "outputs": [
    {
     "data": {
      "text/plain": [
       "{1: OrderedSet([0, 1, 6, 7, 12, 13]),\n",
       " 2: OrderedSet([4, 5, 10, 11, 16, 17]),\n",
       " 3: OrderedSet([0, 1, 2, 3, 4, 5, 6, 7, 8, 9, 10, 11, 12, 13, 14, 15, 16, 17]),\n",
       " 4: OrderedSet([0, 1, 2, 3, 4, 5]),\n",
       " 5: OrderedSet([12, 13, 14, 15, 16, 17]),\n",
       " 6: OrderedSet([0, 1]),\n",
       " 7: OrderedSet([4, 5]),\n",
       " 8: OrderedSet([12, 13]),\n",
       " 9: OrderedSet([16, 17]),\n",
       " -1: OrderedSet()}"
      ]
     },
     "execution_count": 80,
     "metadata": {},
     "output_type": "execute_result"
    }
   ],
   "source": [
    "s.selection_dict"
   ]
  },
  {
   "cell_type": "code",
   "execution_count": 83,
   "metadata": {},
   "outputs": [
    {
     "name": "stderr",
     "output_type": "stream",
     "text": [
      "/home/mlid150/anaconda3/envs/pyfeti/lib/python3.7/site-packages/scipy/sparse/lil.py:512: FutureWarning: future versions will not create a writeable array from broadcast_array. Set the writable flag explicitly to avoid this warning.\n",
      "  if not i.flags.writeable or i.dtype not in (np.int32, np.int64):\n",
      "/home/mlid150/anaconda3/envs/pyfeti/lib/python3.7/site-packages/scipy/sparse/lil.py:514: FutureWarning: future versions will not create a writeable array from broadcast_array. Set the writable flag explicitly to avoid this warning.\n",
      "  if not j.flags.writeable or j.dtype not in (np.int32, np.int64):\n",
      "/home/mlid150/anaconda3/envs/pyfeti/lib/python3.7/site-packages/scipy/sparse/lil.py:518: FutureWarning: future versions will not create a writeable array from broadcast_array. Set the writable flag explicitly to avoid this warning.\n",
      "  if not x.flags.writeable:\n"
     ]
    },
    {
     "data": {
      "text/plain": [
       "<18x18 sparse matrix of type '<class 'numpy.float64'>'\n",
       "\twith 118 stored elements in Compressed Sparse Row format>"
      ]
     },
     "execution_count": 83,
     "metadata": {},
     "output_type": "execute_result"
    }
   ],
   "source": [
    "from pyfeti.src.linalg import Matrix\n",
    "K1 = Matrix(K,key_dict=s.selection_dict)\n",
    "K2 = Matrix(K,key_dict=s.selection_dict)\n",
    "K1.eliminate_by_identity(1,1.0E15)\n",
    "K2.eliminate_by_identity(2,1.0E15)"
   ]
  },
  {
   "cell_type": "code",
   "execution_count": 213,
   "metadata": {},
   "outputs": [],
   "source": [
    "import scipy.sparse as sparse\n",
    "from scipy.optimize import minimize, root\n",
    "dof_id = 4*2\n",
    "\n",
    "K_global = sparse.bmat([[K1.data,None],[None,K2.data]])\n",
    "\n",
    "def compute_u(a,x0):\n",
    "    f1 = np.zeros(K1.shape[0])\n",
    "    f2 = np.zeros(K2.shape[0])\n",
    "    f1[dof_id] = a\n",
    "    \n",
    "    f_global = np.concatenate([f1,f2])\n",
    "    \n",
    "    \n",
    "    R = lambda u : K_global.dot(u) - f_global - Fnl(u)\n",
    "    \n",
    "    #u_global = sparse.linalg.spsolve(K_global,f_global)\n",
    "    \n",
    "    sol = root(R,x0,method='hybr')\n",
    "    u_global = sol.x\n",
    "    half_size = int(u_global.shape[0]/2)\n",
    "    u1 = u_global[:half_size]\n",
    "    u2 = u_global[half_size:]\n",
    "    return u1, u2\n",
    "\n",
    "\n",
    "x0 = np.zeros(K_global.shape[0])\n",
    "u1, u2 = compute_u(3.0E5,x0)"
   ]
  },
  {
   "cell_type": "code",
   "execution_count": null,
   "metadata": {},
   "outputs": [],
   "source": []
  },
  {
   "cell_type": "code",
   "execution_count": 214,
   "metadata": {},
   "outputs": [
    {
     "data": {
      "text/plain": [
       "array([ 0.00000000e+00,  0.00000000e+00,  1.60007675e-01,  1.86951585e-01,\n",
       "        3.97011530e-01, -2.27378898e-01,  0.00000000e+00,  0.00000000e+00,\n",
       "        9.81341229e-01,  2.65825569e-07,  7.27013231e-01, -2.82652736e-07,\n",
       "        0.00000000e+00,  0.00000000e+00,  1.60005613e-01, -1.86951030e-01,\n",
       "        3.97014310e-01,  2.27377039e-01])"
      ]
     },
     "execution_count": 214,
     "metadata": {},
     "output_type": "execute_result"
    }
   ],
   "source": [
    "u1"
   ]
  },
  {
   "cell_type": "code",
   "execution_count": 215,
   "metadata": {},
   "outputs": [
    {
     "data": {
      "text/plain": [
       "array([-3.20357466e-06,  3.68553484e-06, -3.44490231e-06,  1.80006881e-06,\n",
       "        0.00000000e+00,  0.00000000e+00, -7.60780384e-07,  3.61609382e-06,\n",
       "       -2.34709385e-07,  1.12293346e-06,  0.00000000e+00,  0.00000000e+00,\n",
       "        1.30795587e-06,  3.26360480e-06,  9.02277771e-07,  1.27668094e-06,\n",
       "        0.00000000e+00,  0.00000000e+00])"
      ]
     },
     "execution_count": 215,
     "metadata": {},
     "output_type": "execute_result"
    }
   ],
   "source": [
    "u2"
   ]
  },
  {
   "cell_type": "code",
   "execution_count": 216,
   "metadata": {},
   "outputs": [
    {
     "data": {
      "text/plain": [
       "<matplotlib.axes._subplots.AxesSubplot at 0x7f602e14f710>"
      ]
     },
     "execution_count": 216,
     "metadata": {},
     "output_type": "execute_result"
    },
    {
     "data": {
      "image/png": "[encoded data removed]",
      "text/plain": [
       "<Figure size 432x288 with 1 Axes>"
      ]
     },
     "metadata": {
      "needs_background": "light"
     },
     "output_type": "display_data"
    }
   ],
   "source": [
    "from matplotlib.animation import FuncAnimation\n",
    "import matplotlib.animation as animation\n",
    "\n",
    "from pyfeti import utils\n",
    "fig1 = plt.figure()\n",
    "ax2 = fig1.add_subplot(1,1,1)\n",
    "\n",
    "\n",
    "def update(i=0):\n",
    "  \n",
    "    amfe.plotDeformQuadMesh(m1.connectivity,m1.nodes,u1,factor=i*1.0E0,ax=ax2)\n",
    "    amfe.plotDeformQuadMesh(m1.connectivity,m2.nodes,u2,factor=i*1.0E0,ax=ax2)\n",
    "    ax2.set_xlim([-0.5,2.5])\n",
    "    ax2.set_ylim([-0.5,2.5])\n",
    "\n",
    "    return ax2\n",
    "\n",
    "\n",
    "#ani = FuncAnimation(fig1, update, frames=np.linspace(0, 1 ,10), blit=True, interval=1)  \n",
    "\n",
    "update(1)"
   ]
  },
  {
   "cell_type": "code",
   "execution_count": 99,
   "metadata": {},
   "outputs": [
    {
     "data": {
      "text/plain": [
       "array([0., 0., 0., 0., 0., 0., 0., 0., 0., 0., 0., 0., 0., 0., 0., 0., 0.,\n",
       "       0.])"
      ]
     },
     "execution_count": 99,
     "metadata": {},
     "output_type": "execute_result"
    }
   ],
   "source": [
    "u2"
   ]
  },
  {
   "cell_type": "code",
   "execution_count": 121,
   "metadata": {},
   "outputs": [
    {
     "data": {
      "text/plain": [
       "(<matplotlib.collections.PatchCollection at 0x7f602f38bd90>,\n",
       " <matplotlib.axes._subplots.AxesSubplot at 0x7f602f358310>)"
      ]
     },
     "execution_count": 121,
     "metadata": {},
     "output_type": "execute_result"
    },
    {
     "data": {
      "image/png": "[encoded data removed]",
      "text/plain": [
       "<Figure size 432x288 with 1 Axes>"
      ]
     },
     "metadata": {
      "needs_background": "light"
     },
     "output_type": "display_data"
    }
   ],
   "source": []
  }
 ],
 "metadata": {
  "kernelspec": {
   "display_name": "Python [conda env:pyfeti] *",
   "language": "python",
   "name": "conda-env-pyfeti-py"
  },
  "language_info": {
   "codemirror_mode": {
    "name": "ipython",
    "version": 3
   },
   "file_extension": ".py",
   "mimetype": "text/x-python",
   "name": "python",
   "nbconvert_exporter": "python",
   "pygments_lexer": "ipython3",
   "version": "3.7.4"
  }
 },
 "nbformat": 4,
 "nbformat_minor": 2
}
